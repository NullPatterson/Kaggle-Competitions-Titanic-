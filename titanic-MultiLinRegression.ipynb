{
 "cells": [
  {
   "cell_type": "code",
   "execution_count": 25,
   "metadata": {},
   "outputs": [],
   "source": [
    "# Author:   Nol Patterson\n",
    "# Date:     11/7/2023\n",
    "# Title:    titanic.ipynb\n",
    "# Purpose:  A program to predict survivors of the titanic using Q-Learning.\n",
    "# Note:     Using Jupyter notebook extensions to run specific blocks of code"
   ]
  },
  {
   "cell_type": "code",
   "execution_count": null,
   "metadata": {},
   "outputs": [],
   "source": [
    "# CODE BLOCK: Libraries and data prepping\n",
    "\n",
    "# Libraries:\n",
    "import math\n",
    "import numpy    # linear algebra\n",
    "import pandas   # data frames\n",
    "from sklearn.model_selection import train_test_split \n",
    "from sklearn.linear_model import LinearRegression \n",
    "from sklearn.metrics import mean_squared_error, mean_absolute_error \n",
    "from sklearn import preprocessing \n",
    "\n",
    "# Initializing Datasets\n",
    "masterTraining = pandas.read_csv(\"train.csv\")\n",
    "finalTesting = pandas.read_csv(\"test.csv\")\n",
    "\n",
    "# Calculate the number of rows in the data set\n",
    "nrows_Training = masterTraining.shape[0]\n",
    "# Debug statement to sheck the number of rows\n",
    "#print(nrows_Training)\n",
    "\n",
    "# Split the master training set into a training and testing set to check accuracy\n",
    "x = masterTraining.drop('Survived', axis=1)\n",
    "y = masterTraining['Survived']\n",
    "x_train, x_test, y_train, y_test = train_test_split(x, y, test_size=0.3, random_state=101)\n",
    "# Debug statements to check if the masterTraining data set was split properly\n",
    "#print(x_train)\n",
    "#print(x_test)"
   ]
  },
  {
   "cell_type": "code",
   "execution_count": null,
   "metadata": {},
   "outputs": [],
   "source": []
  }
 ],
 "metadata": {
  "kernelspec": {
   "display_name": "Python 3",
   "language": "python",
   "name": "python3"
  },
  "language_info": {
   "codemirror_mode": {
    "name": "ipython",
    "version": 3
   },
   "file_extension": ".py",
   "mimetype": "text/x-python",
   "name": "python",
   "nbconvert_exporter": "python",
   "pygments_lexer": "ipython3",
   "version": "3.11.6"
  }
 },
 "nbformat": 4,
 "nbformat_minor": 2
}
