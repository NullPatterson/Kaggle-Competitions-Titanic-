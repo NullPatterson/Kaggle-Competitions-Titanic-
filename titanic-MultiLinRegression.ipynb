{
 "cells": [
  {
   "cell_type": "code",
   "execution_count": 1,
   "metadata": {},
   "outputs": [],
   "source": [
    "# Author:   Nol Patterson\n",
    "# Date:     11/7/2023\n",
    "# Title:    titanic.ipynb\n",
    "# Purpose:  A program to predict survivors of the titanic using Q-Learning.\n",
    "# Note:     Using Jupyter notebook extensions to run specific blocks of code\n",
    "\n",
    "# Libraries:\n",
    "import numpy          # linear algebra\n",
    "import pandas as pd   # data frames"
   ]
  }
 ],
 "metadata": {
  "kernelspec": {
   "display_name": "Python 3",
   "language": "python",
   "name": "python3"
  },
  "language_info": {
   "codemirror_mode": {
    "name": "ipython",
    "version": 3
   },
   "file_extension": ".py",
   "mimetype": "text/x-python",
   "name": "python",
   "nbconvert_exporter": "python",
   "pygments_lexer": "ipython3",
   "version": "3.11.6"
  }
 },
 "nbformat": 4,
 "nbformat_minor": 2
}
