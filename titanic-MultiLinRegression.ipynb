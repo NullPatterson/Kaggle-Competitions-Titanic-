{
 "cells": [
  {
   "cell_type": "code",
   "execution_count": 6,
   "metadata": {},
   "outputs": [],
   "source": [
    "# Author:   Nol Patterson\n",
    "# Date:     11/7/2023\n",
    "# Title:    titanic.ipynb\n",
    "# Purpose:  A program to predict survivors of the titanic using Q-Learning.\n",
    "# Note:     Using Jupyter notebook extensions to run specific blocks of code\n"
   ]
  },
  {
   "cell_type": "code",
   "execution_count": 22,
   "metadata": {},
   "outputs": [
    {
     "name": "stdout",
     "output_type": "stream",
     "text": [
      "     PassengerId  Survived  Pclass                                      Name  \\\n",
      "624          625         0       3               Bowen, Mr. David John \"Dai\"   \n",
      "625          626         0       1                     Sutton, Mr. Frederick   \n",
      "626          627         0       2            Kirkland, Rev. Charles Leonard   \n",
      "627          628         1       1             Longley, Miss. Gretchen Fiske   \n",
      "628          629         0       3                 Bostandyeff, Mr. Guentcho   \n",
      "..           ...       ...     ...                                       ...   \n",
      "886          887         0       2                     Montvila, Rev. Juozas   \n",
      "887          888         1       1              Graham, Miss. Margaret Edith   \n",
      "888          889         0       3  Johnston, Miss. Catherine Helen \"Carrie\"   \n",
      "889          890         1       1                     Behr, Mr. Karl Howell   \n",
      "890          891         0       3                       Dooley, Mr. Patrick   \n",
      "\n",
      "        Sex   Age  SibSp  Parch      Ticket     Fare Cabin Embarked  \n",
      "624    male  21.0      0      0       54636  16.1000   NaN        S  \n",
      "625    male  61.0      0      0       36963  32.3208   D50        S  \n",
      "626    male  57.0      0      0      219533  12.3500   NaN        Q  \n",
      "627  female  21.0      0      0       13502  77.9583    D9        S  \n",
      "628    male  26.0      0      0      349224   7.8958   NaN        S  \n",
      "..      ...   ...    ...    ...         ...      ...   ...      ...  \n",
      "886    male  27.0      0      0      211536  13.0000   NaN        S  \n",
      "887  female  19.0      0      0      112053  30.0000   B42        S  \n",
      "888  female   NaN      1      2  W./C. 6607  23.4500   NaN        S  \n",
      "889    male  26.0      0      0      111369  30.0000  C148        C  \n",
      "890    male  32.0      0      0      370376   7.7500   NaN        Q  \n",
      "\n",
      "[267 rows x 12 columns]\n"
     ]
    }
   ],
   "source": [
    "# Libraries:\n",
    "import math\n",
    "import numpy    # linear algebra\n",
    "import pandas   # data frames\n",
    "\n",
    "# Initializing Datasets\n",
    "masterTraining = pandas.read_csv(\"train.csv\")\n",
    "finalTesting = pandas.read_csv(\"test.csv\")\n",
    "\n",
    "# Calculate the number of rows in the data set\n",
    "nrows_Training = masterTraining.shape[0]\n",
    "# Debug statement to sheck the number of rows\n",
    "#print(nrows_Training)\n",
    "\n",
    "# Split the master training set into a training and testing set to check accuracy\n",
    "trainingSet = masterTraining[:math.floor(.7 * nrows_Training)]\n",
    "testingSet = masterTraining[math.ceil(.7 * nrows_Training):]\n",
    "# Debug statements to check if the masterTraining data set was split properly\n",
    "#print(trainingSet)\n",
    "#print(testingSet)\n",
    "\n"
   ]
  }
 ],
 "metadata": {
  "kernelspec": {
   "display_name": "Python 3",
   "language": "python",
   "name": "python3"
  },
  "language_info": {
   "codemirror_mode": {
    "name": "ipython",
    "version": 3
   },
   "file_extension": ".py",
   "mimetype": "text/x-python",
   "name": "python",
   "nbconvert_exporter": "python",
   "pygments_lexer": "ipython3",
   "version": "3.11.6"
  }
 },
 "nbformat": 4,
 "nbformat_minor": 2
}
