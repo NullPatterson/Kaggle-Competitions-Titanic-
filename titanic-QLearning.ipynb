{
 "cells": [
  {
   "cell_type": "code",
   "execution_count": null,
   "metadata": {},
   "outputs": [],
   "source": [
    "# Author:   Nol Patterson\n",
    "# Date:     11/7/2023\n",
    "# Title:    titanic.ipynb\n",
    "# Purpose:  A program to predict survivors of the titanic using Q-Learning.\n",
    "# Note:     Using Jupyter notebook extensions to run specific blocks of code\n",
    "\n",
    "# Libraries:\n",
    "import numpy    # linear algebra\n",
    "import pandas   # data frames"
   ]
  }
 ],
 "metadata": {
  "language_info": {
   "name": "python"
  }
 },
 "nbformat": 4,
 "nbformat_minor": 2
}
